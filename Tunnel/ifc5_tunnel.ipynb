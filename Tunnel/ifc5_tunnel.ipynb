{
 "cells": [
  {
   "cell_type": "code",
   "execution_count": 1,
   "metadata": {},
   "outputs": [],
   "source": [
    "import json\n",
    "\n",
    "from pyproj import CRS, Transformer\n",
    "from specklepy.api.client import SpeckleClient\n",
    "from specklepy.core.api import operations\n",
    "from specklepy.transports.server import ServerTransport"
   ]
  },
  {
   "cell_type": "markdown",
   "metadata": {},
   "source": [
    "# Leapfrog Weka Hills Demo Model from Speckle to IFC 5"
   ]
  },
  {
   "cell_type": "code",
   "execution_count": 2,
   "metadata": {},
   "outputs": [],
   "source": [
    "weka_hills_speckle_project_id = \"7a489ac0d4\"\n",
    "ifc5_tunnel_dict = {\n",
    "    \"alignment\": {\"ifc5_ref\": \"N2152bb32e4a045a1ba475c39b312e069\"},\n",
    "    \"excavation\": {\"ifc5_ref\": \"N59ec758cbae14f2fb4e1c0240a1f79d8\"},\n",
    "}"
   ]
  },
  {
   "cell_type": "code",
   "execution_count": 3,
   "metadata": {},
   "outputs": [
    {
     "name": "stderr",
     "output_type": "stream",
     "text": [
      "c:\\Users\\joost\\ReposWindows\\IFC5-development\\.venv\\Lib\\site-packages\\specklepy\\transports\\server\\server.py:73: SpeckleWarning: Unauthenticated Speckle Client provided to Server Transport for https://app.speckle.systems. Receiving from private streams will fail.\n",
      "  warn(\n"
     ]
    }
   ],
   "source": [
    "speckle_client = SpeckleClient(host=\"app.speckle.systems\")\n",
    "transport = ServerTransport(\n",
    "    stream_id=weka_hills_speckle_project_id, client=speckle_client\n",
    ")"
   ]
  },
  {
   "cell_type": "code",
   "execution_count": 4,
   "metadata": {},
   "outputs": [
    {
     "data": {
      "text/plain": [
       "<specklepy.transports.server.server.ServerTransport at 0x2764e3b2ed0>"
      ]
     },
     "execution_count": 4,
     "metadata": {},
     "output_type": "execute_result"
    }
   ],
   "source": [
    "transport"
   ]
  },
  {
   "cell_type": "code",
   "execution_count": 5,
   "metadata": {},
   "outputs": [
    {
     "name": "stdout",
     "output_type": "stream",
     "text": [
      "excavation: 9069ef2b2b\n",
      "lining: 6bd2a019cb\n",
      "alignment: 643ad7861d\n"
     ]
    }
   ],
   "source": [
    "weka_hills_speckle_models = speckle_client.model.get_models(\n",
    "    project_id=weka_hills_speckle_project_id\n",
    ")\n",
    "\n",
    "for model in weka_hills_speckle_models.items:\n",
    "    if \"tunnel\" in model.name:\n",
    "        tunnel_model = str(model.name).replace(\"tunnel/\", \"\")\n",
    "        print(f\"{tunnel_model}: {model.id}\")\n",
    "        if tunnel_model not in ifc5_tunnel_dict.keys():\n",
    "            continue\n",
    "\n",
    "        speckle_model = speckle_client.model.get_with_versions(\n",
    "            model_id=model.id,\n",
    "            project_id=weka_hills_speckle_project_id,\n",
    "        )\n",
    "        ifc5_tunnel_dict[tunnel_model][\"speckle_model\"] = speckle_model"
   ]
  },
  {
   "cell_type": "code",
   "execution_count": 6,
   "metadata": {},
   "outputs": [
    {
     "data": {
      "text/plain": [
       "'e185acb83934eb6b4554a86fb4362951'"
      ]
     },
     "execution_count": 6,
     "metadata": {},
     "output_type": "execute_result"
    }
   ],
   "source": [
    "ifc5_tunnel_dict[tunnel_model][\"speckle_model\"].versions.items[0].referencedObject"
   ]
  },
  {
   "cell_type": "code",
   "execution_count": 7,
   "metadata": {},
   "outputs": [
    {
     "data": {
      "text/plain": [
       "dict_keys(['alignment', 'excavation'])"
      ]
     },
     "execution_count": 7,
     "metadata": {},
     "output_type": "execute_result"
    }
   ],
   "source": [
    "ifc5_tunnel_dict.keys()"
   ]
  },
  {
   "cell_type": "code",
   "execution_count": 8,
   "metadata": {},
   "outputs": [
    {
     "ename": "ValueError",
     "evalue": "not enough values to unpack (expected 2, got 1)",
     "output_type": "error",
     "traceback": [
      "\u001b[1;31m---------------------------------------------------------------------------\u001b[0m",
      "\u001b[1;31mValueError\u001b[0m                                Traceback (most recent call last)",
      "Cell \u001b[1;32mIn[8], line 1\u001b[0m\n\u001b[1;32m----> 1\u001b[0m model_data \u001b[38;5;241m=\u001b[39m \u001b[43moperations\u001b[49m\u001b[38;5;241;43m.\u001b[39;49m\u001b[43mreceive\u001b[49m\u001b[43m(\u001b[49m\n\u001b[0;32m      2\u001b[0m \u001b[43m    \u001b[49m\u001b[43mifc5_tunnel_dict\u001b[49m\u001b[43m[\u001b[49m\u001b[38;5;124;43m\"\u001b[39;49m\u001b[38;5;124;43malignment\u001b[39;49m\u001b[38;5;124;43m\"\u001b[39;49m\u001b[43m]\u001b[49m\u001b[43m[\u001b[49m\u001b[38;5;124;43m\"\u001b[39;49m\u001b[38;5;124;43mspeckle_model\u001b[39;49m\u001b[38;5;124;43m\"\u001b[39;49m\u001b[43m]\u001b[49m\u001b[38;5;241;43m.\u001b[39;49m\u001b[43mversions\u001b[49m\u001b[38;5;241;43m.\u001b[39;49m\u001b[43mitems\u001b[49m\u001b[43m[\u001b[49m\u001b[38;5;241;43m0\u001b[39;49m\u001b[43m]\u001b[49m\u001b[38;5;241;43m.\u001b[39;49m\u001b[43mreferencedObject\u001b[49m\u001b[43m,\u001b[49m\n\u001b[0;32m      3\u001b[0m \u001b[43m    \u001b[49m\u001b[43mtransport\u001b[49m\u001b[43m,\u001b[49m\n\u001b[0;32m      4\u001b[0m \u001b[43m)\u001b[49m\n",
      "File \u001b[1;32mc:\\Users\\joost\\ReposWindows\\IFC5-development\\.venv\\Lib\\site-packages\\specklepy\\core\\api\\operations.py:86\u001b[0m, in \u001b[0;36mreceive\u001b[1;34m(obj_id, remote_transport, local_transport)\u001b[0m\n\u001b[0;32m     78\u001b[0m \u001b[38;5;28;01mif\u001b[39;00m \u001b[38;5;129;01mnot\u001b[39;00m remote_transport:\n\u001b[0;32m     79\u001b[0m     \u001b[38;5;28;01mraise\u001b[39;00m SpeckleException(\n\u001b[0;32m     80\u001b[0m         message\u001b[38;5;241m=\u001b[39m(\n\u001b[0;32m     81\u001b[0m             \u001b[38;5;124m\"\u001b[39m\u001b[38;5;124mCould not find the specified object using the local transport, and you\u001b[39m\u001b[38;5;124m\"\u001b[39m\n\u001b[0;32m     82\u001b[0m             \u001b[38;5;124m\"\u001b[39m\u001b[38;5;124m didn\u001b[39m\u001b[38;5;124m'\u001b[39m\u001b[38;5;124mt provide a fallback remote from which to pull it.\u001b[39m\u001b[38;5;124m\"\u001b[39m\n\u001b[0;32m     83\u001b[0m         )\n\u001b[0;32m     84\u001b[0m     )\n\u001b[1;32m---> 86\u001b[0m obj_string \u001b[38;5;241m=\u001b[39m \u001b[43mremote_transport\u001b[49m\u001b[38;5;241;43m.\u001b[39;49m\u001b[43mcopy_object_and_children\u001b[49m\u001b[43m(\u001b[49m\n\u001b[0;32m     87\u001b[0m \u001b[43m    \u001b[49m\u001b[38;5;28;43mid\u001b[39;49m\u001b[38;5;241;43m=\u001b[39;49m\u001b[43mobj_id\u001b[49m\u001b[43m,\u001b[49m\u001b[43m \u001b[49m\u001b[43mtarget_transport\u001b[49m\u001b[38;5;241;43m=\u001b[39;49m\u001b[43mlocal_transport\u001b[49m\n\u001b[0;32m     88\u001b[0m \u001b[43m\u001b[49m\u001b[43m)\u001b[49m\n\u001b[0;32m     90\u001b[0m \u001b[38;5;28;01mreturn\u001b[39;00m serializer\u001b[38;5;241m.\u001b[39mread_json(obj_string\u001b[38;5;241m=\u001b[39mobj_string)\n",
      "File \u001b[1;32mc:\\Users\\joost\\ReposWindows\\IFC5-development\\.venv\\Lib\\site-packages\\specklepy\\transports\\server\\server.py:172\u001b[0m, in \u001b[0;36mServerTransport.copy_object_and_children\u001b[1;34m(self, id, target_transport)\u001b[0m\n\u001b[0;32m    170\u001b[0m \u001b[38;5;28;01mfor\u001b[39;00m line \u001b[38;5;129;01min\u001b[39;00m lines:\n\u001b[0;32m    171\u001b[0m     \u001b[38;5;28;01mif\u001b[39;00m line:\n\u001b[1;32m--> 172\u001b[0m         \u001b[38;5;28mhash\u001b[39m, obj \u001b[38;5;241m=\u001b[39m line\u001b[38;5;241m.\u001b[39msplit(\u001b[38;5;124m\"\u001b[39m\u001b[38;5;130;01m\\t\u001b[39;00m\u001b[38;5;124m\"\u001b[39m)\n\u001b[0;32m    173\u001b[0m         target_transport\u001b[38;5;241m.\u001b[39msave_object(\u001b[38;5;28mhash\u001b[39m, obj)\n\u001b[0;32m    175\u001b[0m target_transport\u001b[38;5;241m.\u001b[39msave_object(\u001b[38;5;28mid\u001b[39m, root_obj_serialized)\n",
      "\u001b[1;31mValueError\u001b[0m: not enough values to unpack (expected 2, got 1)"
     ]
    }
   ],
   "source": [
    "model_data = operations.receive(\n",
    "    ifc5_tunnel_dict[\"alignment\"][\"speckle_model\"].versions.items[0].referencedObject,\n",
    "    transport,\n",
    ")"
   ]
  },
  {
   "cell_type": "code",
   "execution_count": 9,
   "metadata": {},
   "outputs": [
    {
     "ename": "ValueError",
     "evalue": "not enough values to unpack (expected 2, got 1)",
     "output_type": "error",
     "traceback": [
      "\u001b[1;31m---------------------------------------------------------------------------\u001b[0m",
      "\u001b[1;31mValueError\u001b[0m                                Traceback (most recent call last)",
      "Cell \u001b[1;32mIn[9], line 1\u001b[0m\n\u001b[1;32m----> 1\u001b[0m excavation_model_data \u001b[38;5;241m=\u001b[39m \u001b[43moperations\u001b[49m\u001b[38;5;241;43m.\u001b[39;49m\u001b[43mreceive\u001b[49m\u001b[43m(\u001b[49m\n\u001b[0;32m      2\u001b[0m \u001b[43m    \u001b[49m\u001b[43mifc5_tunnel_dict\u001b[49m\u001b[43m[\u001b[49m\u001b[38;5;124;43m\"\u001b[39;49m\u001b[38;5;124;43mexcavation\u001b[39;49m\u001b[38;5;124;43m\"\u001b[39;49m\u001b[43m]\u001b[49m\u001b[43m[\u001b[49m\u001b[38;5;124;43m\"\u001b[39;49m\u001b[38;5;124;43mspeckle_model\u001b[39;49m\u001b[38;5;124;43m\"\u001b[39;49m\u001b[43m]\u001b[49m\u001b[38;5;241;43m.\u001b[39;49m\u001b[43mversions\u001b[49m\u001b[38;5;241;43m.\u001b[39;49m\u001b[43mitems\u001b[49m\u001b[43m[\u001b[49m\u001b[38;5;241;43m0\u001b[39;49m\u001b[43m]\u001b[49m\u001b[38;5;241;43m.\u001b[39;49m\u001b[43mreferencedObject\u001b[49m\u001b[43m,\u001b[49m\n\u001b[0;32m      3\u001b[0m \u001b[43m    \u001b[49m\u001b[43mremote_transport\u001b[49m\u001b[38;5;241;43m=\u001b[39;49m\u001b[43mtransport\u001b[49m\u001b[43m,\u001b[49m\n\u001b[0;32m      4\u001b[0m \u001b[43m)\u001b[49m\n",
      "File \u001b[1;32mc:\\Users\\joost\\ReposWindows\\IFC5-development\\.venv\\Lib\\site-packages\\specklepy\\core\\api\\operations.py:86\u001b[0m, in \u001b[0;36mreceive\u001b[1;34m(obj_id, remote_transport, local_transport)\u001b[0m\n\u001b[0;32m     78\u001b[0m \u001b[38;5;28;01mif\u001b[39;00m \u001b[38;5;129;01mnot\u001b[39;00m remote_transport:\n\u001b[0;32m     79\u001b[0m     \u001b[38;5;28;01mraise\u001b[39;00m SpeckleException(\n\u001b[0;32m     80\u001b[0m         message\u001b[38;5;241m=\u001b[39m(\n\u001b[0;32m     81\u001b[0m             \u001b[38;5;124m\"\u001b[39m\u001b[38;5;124mCould not find the specified object using the local transport, and you\u001b[39m\u001b[38;5;124m\"\u001b[39m\n\u001b[0;32m     82\u001b[0m             \u001b[38;5;124m\"\u001b[39m\u001b[38;5;124m didn\u001b[39m\u001b[38;5;124m'\u001b[39m\u001b[38;5;124mt provide a fallback remote from which to pull it.\u001b[39m\u001b[38;5;124m\"\u001b[39m\n\u001b[0;32m     83\u001b[0m         )\n\u001b[0;32m     84\u001b[0m     )\n\u001b[1;32m---> 86\u001b[0m obj_string \u001b[38;5;241m=\u001b[39m \u001b[43mremote_transport\u001b[49m\u001b[38;5;241;43m.\u001b[39;49m\u001b[43mcopy_object_and_children\u001b[49m\u001b[43m(\u001b[49m\n\u001b[0;32m     87\u001b[0m \u001b[43m    \u001b[49m\u001b[38;5;28;43mid\u001b[39;49m\u001b[38;5;241;43m=\u001b[39;49m\u001b[43mobj_id\u001b[49m\u001b[43m,\u001b[49m\u001b[43m \u001b[49m\u001b[43mtarget_transport\u001b[49m\u001b[38;5;241;43m=\u001b[39;49m\u001b[43mlocal_transport\u001b[49m\n\u001b[0;32m     88\u001b[0m \u001b[43m\u001b[49m\u001b[43m)\u001b[49m\n\u001b[0;32m     90\u001b[0m \u001b[38;5;28;01mreturn\u001b[39;00m serializer\u001b[38;5;241m.\u001b[39mread_json(obj_string\u001b[38;5;241m=\u001b[39mobj_string)\n",
      "File \u001b[1;32mc:\\Users\\joost\\ReposWindows\\IFC5-development\\.venv\\Lib\\site-packages\\specklepy\\transports\\server\\server.py:172\u001b[0m, in \u001b[0;36mServerTransport.copy_object_and_children\u001b[1;34m(self, id, target_transport)\u001b[0m\n\u001b[0;32m    170\u001b[0m \u001b[38;5;28;01mfor\u001b[39;00m line \u001b[38;5;129;01min\u001b[39;00m lines:\n\u001b[0;32m    171\u001b[0m     \u001b[38;5;28;01mif\u001b[39;00m line:\n\u001b[1;32m--> 172\u001b[0m         \u001b[38;5;28mhash\u001b[39m, obj \u001b[38;5;241m=\u001b[39m line\u001b[38;5;241m.\u001b[39msplit(\u001b[38;5;124m\"\u001b[39m\u001b[38;5;130;01m\\t\u001b[39;00m\u001b[38;5;124m\"\u001b[39m)\n\u001b[0;32m    173\u001b[0m         target_transport\u001b[38;5;241m.\u001b[39msave_object(\u001b[38;5;28mhash\u001b[39m, obj)\n\u001b[0;32m    175\u001b[0m target_transport\u001b[38;5;241m.\u001b[39msave_object(\u001b[38;5;28mid\u001b[39m, root_obj_serialized)\n",
      "\u001b[1;31mValueError\u001b[0m: not enough values to unpack (expected 2, got 1)"
     ]
    }
   ],
   "source": [
    "excavation_model_data = operations.receive(\n",
    "    ifc5_tunnel_dict[\"excavation\"][\"speckle_model\"].versions.items[0].referencedObject,\n",
    "    remote_transport=transport,\n",
    ")"
   ]
  },
  {
   "cell_type": "code",
   "execution_count": 11,
   "metadata": {},
   "outputs": [
    {
     "data": {
      "text/plain": [
       "Version(authorUser=LimitedUser(id='88153cc720', name='Joost Gevaert', bio='', company='Bedrock', avatar='data:image/jpeg;base64,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', verified=True, role='server:user'), createdAt=datetime.datetime(2025, 1, 27, 20, 31, 9, 910000, tzinfo=TzInfo(UTC)), id='542a48d337', message=None, previewUrl='https://app.speckle.systems/preview/7a489ac0d4/commits/542a48d337', referencedObject='78f8b3ca58a87a77d752c6ef1a65a81a', sourceApplication='rhino')"
      ]
     },
     "execution_count": 11,
     "metadata": {},
     "output_type": "execute_result"
    }
   ],
   "source": [
    "ifc5_tunnel_dict[\"excavation\"][\"speckle_model\"].versions.items[0]"
   ]
  },
  {
   "cell_type": "code",
   "execution_count": 32,
   "metadata": {},
   "outputs": [
    {
     "data": {
      "text/plain": [
       "'78f8b3ca58a87a77d752c6ef1a65a81a'"
      ]
     },
     "execution_count": 32,
     "metadata": {},
     "output_type": "execute_result"
    }
   ],
   "source": [
    "ifc5_tunnel_dict[\"excavation\"][\"speckle_model\"].versions.items[0].referencedObject"
   ]
  },
  {
   "cell_type": "code",
   "execution_count": 25,
   "metadata": {},
   "outputs": [
    {
     "ename": "ValueError",
     "evalue": "not enough values to unpack (expected 2, got 1)",
     "output_type": "error",
     "traceback": [
      "\u001b[1;31m---------------------------------------------------------------------------\u001b[0m",
      "\u001b[1;31mValueError\u001b[0m                                Traceback (most recent call last)",
      "Cell \u001b[1;32mIn[25], line 2\u001b[0m\n\u001b[0;32m      1\u001b[0m \u001b[38;5;28;01mfor\u001b[39;00m key, value \u001b[38;5;129;01min\u001b[39;00m ifc5_tunnel_dict\u001b[38;5;241m.\u001b[39mitems():\n\u001b[1;32m----> 2\u001b[0m     model_data \u001b[38;5;241m=\u001b[39m \u001b[43moperations\u001b[49m\u001b[38;5;241;43m.\u001b[39;49m\u001b[43mreceive\u001b[49m\u001b[43m(\u001b[49m\n\u001b[0;32m      3\u001b[0m \u001b[43m        \u001b[49m\u001b[43mifc5_tunnel_dict\u001b[49m\u001b[43m[\u001b[49m\u001b[43mkey\u001b[49m\u001b[43m]\u001b[49m\u001b[43m[\u001b[49m\u001b[38;5;124;43m\"\u001b[39;49m\u001b[38;5;124;43mspeckle_model\u001b[39;49m\u001b[38;5;124;43m\"\u001b[39;49m\u001b[43m]\u001b[49m\u001b[38;5;241;43m.\u001b[39;49m\u001b[43mversions\u001b[49m\u001b[38;5;241;43m.\u001b[39;49m\u001b[43mitems\u001b[49m\u001b[43m[\u001b[49m\u001b[38;5;241;43m0\u001b[39;49m\u001b[43m]\u001b[49m\u001b[38;5;241;43m.\u001b[39;49m\u001b[43mreferencedObject\u001b[49m\u001b[43m,\u001b[49m\n\u001b[0;32m      4\u001b[0m \u001b[43m        \u001b[49m\u001b[43mtransport\u001b[49m\u001b[43m,\u001b[49m\n\u001b[0;32m      5\u001b[0m \u001b[43m    \u001b[49m\u001b[43m)\u001b[49m\n",
      "File \u001b[1;32mc:\\Users\\joost\\ReposWindows\\IFC5-development\\.venv\\Lib\\site-packages\\specklepy\\core\\api\\operations.py:86\u001b[0m, in \u001b[0;36mreceive\u001b[1;34m(obj_id, remote_transport, local_transport)\u001b[0m\n\u001b[0;32m     78\u001b[0m \u001b[38;5;28;01mif\u001b[39;00m \u001b[38;5;129;01mnot\u001b[39;00m remote_transport:\n\u001b[0;32m     79\u001b[0m     \u001b[38;5;28;01mraise\u001b[39;00m SpeckleException(\n\u001b[0;32m     80\u001b[0m         message\u001b[38;5;241m=\u001b[39m(\n\u001b[0;32m     81\u001b[0m             \u001b[38;5;124m\"\u001b[39m\u001b[38;5;124mCould not find the specified object using the local transport, and you\u001b[39m\u001b[38;5;124m\"\u001b[39m\n\u001b[0;32m     82\u001b[0m             \u001b[38;5;124m\"\u001b[39m\u001b[38;5;124m didn\u001b[39m\u001b[38;5;124m'\u001b[39m\u001b[38;5;124mt provide a fallback remote from which to pull it.\u001b[39m\u001b[38;5;124m\"\u001b[39m\n\u001b[0;32m     83\u001b[0m         )\n\u001b[0;32m     84\u001b[0m     )\n\u001b[1;32m---> 86\u001b[0m obj_string \u001b[38;5;241m=\u001b[39m \u001b[43mremote_transport\u001b[49m\u001b[38;5;241;43m.\u001b[39;49m\u001b[43mcopy_object_and_children\u001b[49m\u001b[43m(\u001b[49m\n\u001b[0;32m     87\u001b[0m \u001b[43m    \u001b[49m\u001b[38;5;28;43mid\u001b[39;49m\u001b[38;5;241;43m=\u001b[39;49m\u001b[43mobj_id\u001b[49m\u001b[43m,\u001b[49m\u001b[43m \u001b[49m\u001b[43mtarget_transport\u001b[49m\u001b[38;5;241;43m=\u001b[39;49m\u001b[43mlocal_transport\u001b[49m\n\u001b[0;32m     88\u001b[0m \u001b[43m\u001b[49m\u001b[43m)\u001b[49m\n\u001b[0;32m     90\u001b[0m \u001b[38;5;28;01mreturn\u001b[39;00m serializer\u001b[38;5;241m.\u001b[39mread_json(obj_string\u001b[38;5;241m=\u001b[39mobj_string)\n",
      "File \u001b[1;32mc:\\Users\\joost\\ReposWindows\\IFC5-development\\.venv\\Lib\\site-packages\\specklepy\\transports\\server\\server.py:172\u001b[0m, in \u001b[0;36mServerTransport.copy_object_and_children\u001b[1;34m(self, id, target_transport)\u001b[0m\n\u001b[0;32m    170\u001b[0m \u001b[38;5;28;01mfor\u001b[39;00m line \u001b[38;5;129;01min\u001b[39;00m lines:\n\u001b[0;32m    171\u001b[0m     \u001b[38;5;28;01mif\u001b[39;00m line:\n\u001b[1;32m--> 172\u001b[0m         \u001b[38;5;28mhash\u001b[39m, obj \u001b[38;5;241m=\u001b[39m line\u001b[38;5;241m.\u001b[39msplit(\u001b[38;5;124m\"\u001b[39m\u001b[38;5;130;01m\\t\u001b[39;00m\u001b[38;5;124m\"\u001b[39m)\n\u001b[0;32m    173\u001b[0m         target_transport\u001b[38;5;241m.\u001b[39msave_object(\u001b[38;5;28mhash\u001b[39m, obj)\n\u001b[0;32m    175\u001b[0m target_transport\u001b[38;5;241m.\u001b[39msave_object(\u001b[38;5;28mid\u001b[39m, root_obj_serialized)\n",
      "\u001b[1;31mValueError\u001b[0m: not enough values to unpack (expected 2, got 1)"
     ]
    }
   ],
   "source": [
    "for key, value in ifc5_tunnel_dict.items():\n",
    "    model_data = operations.receive(\n",
    "        ifc5_tunnel_dict[key][\"speckle_model\"].versions.items[0].referencedObject,\n",
    "        transport,\n",
    "    )"
   ]
  },
  {
   "cell_type": "code",
   "execution_count": null,
   "metadata": {},
   "outputs": [],
   "source": [
    "speckle_faces = model_data.elements[0].elements[0].elements[0].elements[0].faces\n",
    "face_vertex_counts = []\n",
    "face_vertex_indices = []\n",
    "i = 0\n",
    "while i < len(speckle_faces):\n",
    "    vertex_count = speckle_faces[i]\n",
    "    face_vertex_counts.append(vertex_count)\n",
    "    face_vertex_indices.extend(speckle_faces[i + 1 : i + 1 + vertex_count])\n",
    "    i += 1 + vertex_count\n",
    "\n",
    "speckle_vertices = model_data.elements[0].elements[0].elements[0].elements[0].vertices\n",
    "points = [speckle_vertices[i : i + 3] for i in range(0, len(speckle_vertices), 3)]"
   ]
  },
  {
   "cell_type": "code",
   "execution_count": null,
   "metadata": {},
   "outputs": [],
   "source": [
    "= =-th open(\n",
    "    f\"WekaHills_GeologyModel_{ifc5_geo_dict['name']}_UsdGeom.ifcx\", \"w\"\n",
    ") as json_file:\n",
    "    json.dump(ifc5_usdgeom, json_file)"
   ]
  },
  {
   "cell_type": "markdown",
   "metadata": {},
   "source": [
    "For testing purposes, one can create an `.obj` file from the Speckle geometry as follows:"
   ]
  },
  {
   "cell_type": "code",
   "execution_count": null,
   "metadata": {},
   "outputs": [],
   "source": [
    "with open(f\"{tunnel_model}Mesh.obj\", \"w\") as obj_file:\n",
    "    for point in points:\n",
    "        obj_file.write(f\"v {point[0]} {point[1]} {point[2]}\\n\")\n",
    "    for i in range(0, len(face_vertex_indices), 3):\n",
    "        # OBJ uses 1-based indexing, so add 1 to the indices\n",
    "        obj_file.write(\n",
    "            f\"f {face_vertex_indices[i] + 1} {face_vertex_indices[i + 1] + 1} {face_vertex_indices[i + 2] + 1}\\n\"\n",
    "        )"
   ]
  },
  {
   "cell_type": "markdown",
   "metadata": {},
   "source": [
    "# CRS Objects in IFC 5\n",
    "\n",
    "Coordinate Reference Systems (CRS') can be defined using the Well-Known Text representation of Coordinate Reference Systems (WKT-CRS | [Wikipedia](http://en.wikipedia.org/wiki/Well-known_text_representation_of_coordinate_reference_systems) | [OGC Specification](https://docs.ogc.org/is/18-010r7/18-010r7.html)). This representation of CRS' is also an ISO standard: ISO 19162:2019.\n",
    "\n",
    "Notes from the Wikipedia WKT-CRS \"Version history\" section:\n",
    "\n",
    ">  Confusingly, the original 2015 \"WKT 2\" standard has a version number 1 for the new, stricter WKT-CRS specification. A newer revision called WKT-CRS 2 was published in 2018, with the ISO version being ISO 19162:2019.\n",
    "\n",
    "> ESRI vs OGC  \n",
    "> ... some databases differentiate between \"OGC WKT\" and \"ESRI WKT\" representations. The problem is largely resolved in WKT[-CRS] 2, as it is better-defined.\n",
    "\n",
    "These differences in how WKT strings are also clear from the export section when looking up a CRS on [epsg.io](https://epsg.io). For example, have a look at the differences between the \"OGC WKT\", \"OGC WKT 2\" and \"ESRI WKT\" results in the export section at the bottom of the [epsg.io/2193](https://epsg.io/2193) page."
   ]
  },
  {
   "cell_type": "code",
   "execution_count": 4,
   "metadata": {},
   "outputs": [],
   "source": [
    "weka_hills_crs = CRS(2193)"
   ]
  },
  {
   "cell_type": "code",
   "execution_count": null,
   "metadata": {},
   "outputs": [],
   "source": [
    "ifc5_wkt_crs = [\n",
    "    {\n",
    "        \"def\": \"def\",\n",
    "        \"name\": \"CRS_EPSG:2193\",\n",
    "        \"type\": \"OGC:CRS\",\n",
    "        \"attributes\": {\n",
    "            \"WKT-CRS\": {\n",
    "                \"ISO\": \"ISO 19162:2019\",\n",
    "                \"wkt\": weka_hills_crs.to_wkt(),\n",
    "                \"name\": weka_hills_crs.name,\n",
    "                \"authority_id\": f\"EPSG:{weka_hills_crs.to_authority()[1]}\",\n",
    "                \"units\": \"m\",\n",
    "                \"offset_x\": 0,\n",
    "                \"offset_y\": 0,\n",
    "                \"offset_z\": 0,\n",
    "                \"rotation\": 0,\n",
    "            }\n",
    "        },\n",
    "    },\n",
    "    {\n",
    "        \"def\": \"over\",\n",
    "        \"name\": \"Nad68cd145a6b43fdb0232e0b11a6c7bc\",\n",
    "        \"comment\": \"Assigns CRS_EPSG:2193 to the instance of borehole WH_009\",\n",
    "        \"attributes\": {\"crs\": {\"ref\": \"</CRS_EPSG:2193>\"}},\n",
    "    },\n",
    "    {\n",
    "        \"def\": \"over\",\n",
    "        \"name\": \"N996ff9e7b86240f898d4d038ab311d1b\",\n",
    "        \"comment\": \"Assigns CRS_EPSG:2193 to the instance of borehole WH_012\",\n",
    "        \"attributes\": {\"crs\": {\"ref\": \"</CRS_EPSG:2193>\"}},\n",
    "    },\n",
    "    {\n",
    "        \"def\": \"over\",\n",
    "        \"name\": \"N25dbbae886194be6b469e4f17f0b605c\",\n",
    "        \"comment\": \"Assigns CRS_EPSG:2193 to the instance of the GeologyModel\",\n",
    "        \"attributes\": {\"crs\": {\"ref\": \"</CRS_EPSG:2193>\"}},\n",
    "    },\n",
    "]\n",
    "\n",
    "with open(\"WekaHills_CRS_EPSG2193.ifcx\", \"w\") as json_file:\n",
    "    json.dump(ifc5_wkt_crs, json_file, indent=2)"
   ]
  },
  {
   "cell_type": "markdown",
   "metadata": {},
   "source": [
    "Longitude is the x-coordinate or east-west coordinate on earth expressed in 0 to 180 degrees east or west of the Greenwich prime meridian or in -180 to 180 degrees relative to the Greenwich prime meridian.\n",
    "\n",
    "Latitude is the y-coordinate or north-south coordinate on earth expressed in 0 to 90 north or south of the equator or in -90 to 90 degrees relative to the equator.\n",
    "\n",
    "Historically, coordinates on earth are denoted (Latitude, Longitude), because it was easier to determine the north-south position than the east-west position. This because the north-south position can be determined from the sun, stars and other heavenly bodies, whereas one need to accurately know the time in order to determine the east-west position.\n",
    "\n",
    "Nowadays, especially on the web, it's common to write coordinates on earth in [Longitude, Latitude], because we commonly write down coordinates [x, y]."
   ]
  },
  {
   "cell_type": "code",
   "execution_count": 10,
   "metadata": {},
   "outputs": [],
   "source": [
    "transformer = Transformer.from_crs(weka_hills_crs, 4326, always_xy=True)\n",
    "custom_lon, custom_lat = transformer.transform(1166250.104, 4888836.859)\n",
    "custom_crs_wkt = f'PROJCS[\"SpeckleCRS_latlon_{custom_lat}_{custom_lon}\", GEOGCS[\"GCS_WGS_1984\", DATUM[\"D_WGS_1984\", SPHEROID[\"WGS_1984\", 6378137.0, 298.257223563]], PRIMEM[\"Greenwich\", 0.0], UNIT[\"Degree\", 0.0174532925199433]], PROJECTION[\"Transverse_Mercator\"], PARAMETER[\"False_Easting\", 0.0], PARAMETER[\"False_Northing\", 0.0], PARAMETER[\"Central_Meridian\", {custom_lon}], PARAMETER[\"Scale_Factor\", 1.0], PARAMETER[\"Latitude_Of_Origin\", {custom_lat}], UNIT[\"Meter\", 1.0]]'"
   ]
  }
 ],
 "metadata": {
  "kernelspec": {
   "display_name": ".venv",
   "language": "python",
   "name": "python3"
  },
  "language_info": {
   "codemirror_mode": {
    "name": "ipython",
    "version": 3
   },
   "file_extension": ".py",
   "mimetype": "text/x-python",
   "name": "python",
   "nbconvert_exporter": "python",
   "pygments_lexer": "ipython3",
   "version": "3.11.10"
  }
 },
 "nbformat": 4,
 "nbformat_minor": 2
}
